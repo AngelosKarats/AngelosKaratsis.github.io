{
 "cells": [
  {
   "cell_type": "markdown",
   "metadata": {},
   "source": [
    "'''\n",
    "Get Data: https://www.imdb.com/interfaces/\n",
    "\n",
    "The data used here where preprocessed and can be downloaded from:\n",
    "https://drive.google.com/uc?export=download&id=1ifdNj5BSvsnjMceQMtx7imz5PxHmLl9M\n",
    "\n",
    "Questions to be answered:\n",
    "1) Import Data \n",
    "2) Implement the queries below: \n",
    " A) Find all directors that where born in 1939 and show their names.\n",
    " B) Find all Thriller productions (movies, tvseries, etc.) that have the best ratings and at least 100.000 reviews. Show titles and rating.\n",
    " C) Find 10 longest running tvseries with at least 100.000 reviews. Show titles and their \"age\" in descending order. If they aren't still on air calculate their age using 2021.\n",
    " D) Find the number of movies in each genre and the average rating for movies after 1980. Order by number of movies in descending order.\n",
    "3) Query optimization with indexes.\n",
    "'''"
   ]
  },
  {
   "cell_type": "code",
   "execution_count": null,
   "metadata": {},
   "outputs": [],
   "source": [
    "1. C:\\Program Files\\MongoDB\\Tools\\100\\bin> mongoimport -d name_basics -c scores --type json --file name_basics.json --jsonArray\n",
    "   C:\\Program Files\\MongoDB\\Tools\\100\\bin> mongoimport -d title_basics -c scores --type json --file title_basics.json --jsonArray\n",
    "\n",
    "\n",
    "2a. db.name_basics.find( {birthYear:1939, primaryProfession: \"director\"}, {primaryName:1, _id:0} )\n",
    "\n",
    "\n",
    "2b. db.title_basics.find({genres:\"Thriller\", numVotes:{$gte:100000}},{primaryTitle:1, _id:0, averageRating:1}).sort({averageRating:-1}).limit(6)\n",
    "\n",
    "\n",
    "2c. db.title_basics.update({\"endYear\":null},{$set:{\"endYear\":2021}},{multi:true})\n",
    "    db.title_basics.aggregate({$match: {titleType:\"tvSeries\",numVotes:{$gte:100000}}},\n",
    "\t{$project: {_id:0,primaryTitle:1,age: {$subtract: [\"$endYear\",\"$startYear\"]}}},{$sort:{age:-1}},{$limit:10})\n",
    "\n",
    "\n",
    "2d. db.title_basics.aggregate({$unwind:\"$genres\"},{$match:{startYear:{$gt:1980}, titleType:\"movie\"}},\n",
    "\t\t\t      {$group:{_id:\"$genres\",count:{$sum:1},avgRat:{$avg:\"$averageRating\"}}},{$sort:{count:-1}})\n",
    "\n",
    "\n",
    "\n",
    "3a. db.title_basics.createIndex({birthYear:1})\n",
    "3b. db.title_basics.createIndex({startYear:1})\n",
    "3c. db.title_basics.createIndex({titleType:1})\n",
    "3d. db.title_basics.createIndex({startYear:1, titleType:1})\n",
    "\n"
   ]
  }
 ],
 "metadata": {
  "language_info": {
   "name": "python"
  },
  "orig_nbformat": 4
 },
 "nbformat": 4,
 "nbformat_minor": 2
}
